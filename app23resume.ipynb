{
 "cells": [
  {
   "cell_type": "code",
   "execution_count": null,
   "id": "f75f09ed",
   "metadata": {},
   "outputs": [],
   "source": [
    "import numpy as np \n",
    "import streamlit as st \n",
    "import pickle \n",
    "import re \n",
    "import nltk "
   ]
  },
  {
   "cell_type": "code",
   "execution_count": null,
   "id": "c0a673b1",
   "metadata": {},
   "outputs": [],
   "source": [
    "nltk.download('punkt')\n",
    "nltk.download('stopwords')"
   ]
  },
  {
   "cell_type": "code",
   "execution_count": null,
   "id": "8ac09f1e",
   "metadata": {},
   "outputs": [],
   "source": [
    "clf=pickle.load(open('clf.pkl','rb'))\n",
    "tfidf=pickle.load(open('tfidf.pkl','rb'))"
   ]
  },
  {
   "cell_type": "code",
   "execution_count": null,
   "id": "af06d243",
   "metadata": {},
   "outputs": [],
   "source": [
    "def cleanresume(txt):\n",
    "    cleantxt=re.sub('http\\S+\\s',' ',txt)\n",
    "    cleantxt=re.sub('RT|cc',' ',cleantxt)\n",
    "    cleantxt=re.sub('@\\S+', ' ',cleantxt)\n",
    "    cleantxt=re.sub('#\\S+\\s',' ',cleantxt)\n",
    "    cleantxt=re.sub('[%s]' % re.escape(\"\"\"|\"#$%&'()*+,-,/:;<=>?@[\\]^_'{|}~\"\"\"),' ',cleantxt)\n",
    "   # cleantxt=re.sub('\\s+',' ',cleantxt)\n",
    "    #cleantxt=re.sub(r'[^\\x00-\\x7f]', ' ',cleantxt)\n",
    "    cleantxt=re.sub(r'[^\\x00-\\x7f]',' ',cleantxt)\n",
    "    cleantxt=re.sub('\\s+',' ',cleantxt)\n",
    "    return cleantxt"
   ]
  },
  {
   "cell_type": "code",
   "execution_count": null,
   "id": "f5f4e91e",
   "metadata": {},
   "outputs": [],
   "source": [
    "pip install streamlit"
   ]
  },
  {
   "cell_type": "code",
   "execution_count": null,
   "id": "d14a81b1",
   "metadata": {},
   "outputs": [],
   "source": [
    "def main():\n",
    "    st.title(\"Resume Screeing App\")\n",
    "    upload_file=st.file('upload resume',type=['txt','pdf'])\n",
    "    \n",
    "    \n",
    "    if upload_file is not None:\n",
    "        try:\n",
    "            resume_bytes=uploaded_file.read()\n",
    "            resume_text=resume_bytes.decode('utf-8')\n",
    "        except UnicodeDecodeError:\n",
    "            resume_txt=resume_bytes.decode('latin-1')\n",
    "        cleaned_resume=clean_resume([resume_text])\n",
    "        cleaned_resume=tfidf.transform([cleaned_resume])\n",
    "        prediction_id=clf.predict(cleaned_resume)[0]\n",
    "        st.write(prediction_id)"
   ]
  },
  {
   "cell_type": "code",
   "execution_count": null,
   "id": "b1e8754f",
   "metadata": {},
   "outputs": [],
   "source": [
    "category_mapping={'Data Science':6, 'HR':12, 'Advocate':0, 'Arts':1, 'Web Designing':24,\n",
    "     'Mechanical Engineer':16, 'Sales':22, 'Health and fitness':14,\n",
    "     'Civil Engineer':5, 'Java Developer':15, 'Business Analyst':4,\n",
    "    'SAP Developer':21, 'Automation Testing':2, 'Electrical Engineering':11,\n",
    "    'Operations Manager':18, 'Python Developer':20, 'DevOps Engineer':8,\n",
    "    'Network Security Engineer':17, 'PMO':19, 'Database':7, 'Hadoop':13,\n",
    "    'ETL Developer':10, \n",
    "    'DotNet Developer':9, 'Blockchain':3, 'Testing':23}\n",
    "category_name=category_mapping.get(prediction_id,'unknown')\n",
    "st.write('predicted category:',category_name)"
   ]
  },
  {
   "cell_type": "code",
   "execution_count": null,
   "id": "aa5ff952",
   "metadata": {},
   "outputs": [],
   "source": []
  },
  {
   "cell_type": "code",
   "execution_count": null,
   "id": "8972e4e6",
   "metadata": {},
   "outputs": [],
   "source": []
  },
  {
   "cell_type": "code",
   "execution_count": null,
   "id": "3e951772",
   "metadata": {},
   "outputs": [],
   "source": [
    "if __name__=\"__main__\":\n",
    "    main()"
   ]
  },
  {
   "cell_type": "code",
   "execution_count": null,
   "id": "83de9329",
   "metadata": {},
   "outputs": [],
   "source": []
  },
  {
   "cell_type": "code",
   "execution_count": null,
   "id": "8bfebe41",
   "metadata": {},
   "outputs": [],
   "source": []
  },
  {
   "cell_type": "code",
   "execution_count": null,
   "id": "d8d1269e",
   "metadata": {},
   "outputs": [],
   "source": []
  },
  {
   "cell_type": "code",
   "execution_count": null,
   "id": "88a2a728",
   "metadata": {},
   "outputs": [],
   "source": []
  },
  {
   "cell_type": "code",
   "execution_count": null,
   "id": "38f78f29",
   "metadata": {},
   "outputs": [],
   "source": []
  },
  {
   "cell_type": "code",
   "execution_count": null,
   "id": "75118315",
   "metadata": {},
   "outputs": [],
   "source": []
  },
  {
   "cell_type": "code",
   "execution_count": null,
   "id": "9f779711",
   "metadata": {},
   "outputs": [],
   "source": []
  },
  {
   "cell_type": "code",
   "execution_count": null,
   "id": "35e2c557",
   "metadata": {},
   "outputs": [],
   "source": []
  },
  {
   "cell_type": "code",
   "execution_count": null,
   "id": "affe9e47",
   "metadata": {},
   "outputs": [],
   "source": []
  },
  {
   "cell_type": "code",
   "execution_count": null,
   "id": "b43d416e",
   "metadata": {},
   "outputs": [],
   "source": []
  },
  {
   "cell_type": "code",
   "execution_count": null,
   "id": "5c6d1423",
   "metadata": {},
   "outputs": [],
   "source": []
  },
  {
   "cell_type": "code",
   "execution_count": null,
   "id": "d465265f",
   "metadata": {},
   "outputs": [],
   "source": []
  },
  {
   "cell_type": "code",
   "execution_count": null,
   "id": "0ff0dc22",
   "metadata": {},
   "outputs": [],
   "source": []
  },
  {
   "cell_type": "code",
   "execution_count": null,
   "id": "4c00907f",
   "metadata": {},
   "outputs": [],
   "source": []
  },
  {
   "cell_type": "code",
   "execution_count": null,
   "id": "50fd806c",
   "metadata": {},
   "outputs": [],
   "source": []
  },
  {
   "cell_type": "code",
   "execution_count": null,
   "id": "3f13326e",
   "metadata": {},
   "outputs": [],
   "source": []
  },
  {
   "cell_type": "code",
   "execution_count": null,
   "id": "a41232b1",
   "metadata": {},
   "outputs": [],
   "source": []
  }
 ],
 "metadata": {
  "kernelspec": {
   "display_name": "Python 3 (ipykernel)",
   "language": "python",
   "name": "python3"
  },
  "language_info": {
   "codemirror_mode": {
    "name": "ipython",
    "version": 3
   },
   "file_extension": ".py",
   "mimetype": "text/x-python",
   "name": "python",
   "nbconvert_exporter": "python",
   "pygments_lexer": "ipython3",
   "version": "3.9.13"
  }
 },
 "nbformat": 4,
 "nbformat_minor": 5
}
